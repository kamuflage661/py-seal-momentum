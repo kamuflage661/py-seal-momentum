{
 "cells": [
  {
   "cell_type": "code",
   "execution_count": 1,
   "metadata": {},
   "outputs": [],
   "source": [
    "import pandas as pd\n",
    "import yfinance as yf\n",
    "import datetime\n",
    "import time\n",
    "import requests\n",
    "import io\n",
    "\n",
    "start = datetime.datetime(2020,2,1)\n",
    "end = datetime.datetime(2020,10,11)\n",
    "\n",
    "url=\"https://pkgstore.datahub.io/core/nasdaq-listings/nasdaq-listed_csv/data/7665719fb51081ba0bd834fde71ce822/nasdaq-listed_csv.csv\"\n",
    "s = requests.get(url).content\n",
    "companies = pd.read_csv(io.StringIO(s.decode('utf-8')))\n",
    "\n",
    "Symbols = companies['Symbol'].tolist()\n",
    "\n",
    "# # create empty dataframe\n",
    "# stock_final = pd.DataFrame()\n",
    "# # iterate over each symbol\n",
    "# for i in Symbols:  \n",
    "    \n",
    "#     # print the symbol which is being downloaded\n",
    "#     print( str(Symbols.index(i)) + str(' : ') + i, sep=',', end=',', flush=True)  \n",
    "    \n",
    "#     try:\n",
    "#         # download the stock price \n",
    "#         stock = []\n",
    "#         stock = yf.download(i,start=start, end=end, progress=False)\n",
    "        \n",
    "#         # append the individual stock prices \n",
    "#         if len(stock) == 0:\n",
    "#             None\n",
    "#         else:\n",
    "#             stock['Name']=i\n",
    "#             stock_final = stock_final.append(stock,sort=False)\n",
    "#     except Exception:\n",
    "#         None\n",
    "\n",
    "# stock_final.head()\n"
   ]
  },
  {
   "cell_type": "code",
   "execution_count": null,
   "metadata": {},
   "outputs": [],
   "source": []
  }
 ],
 "metadata": {
  "interpreter": {
   "hash": "262a6e2affdaca71d83106954bc825815dc1afde8af0778856610a0d21866ecc"
  },
  "kernelspec": {
   "display_name": "Python 3.9.9 64-bit (windows store)",
   "language": "python",
   "name": "python3"
  },
  "language_info": {
   "codemirror_mode": {
    "name": "ipython",
    "version": 3
   },
   "file_extension": ".py",
   "mimetype": "text/x-python",
   "name": "python",
   "nbconvert_exporter": "python",
   "pygments_lexer": "ipython3",
   "version": "3.9.10"
  },
  "orig_nbformat": 4
 },
 "nbformat": 4,
 "nbformat_minor": 2
}
