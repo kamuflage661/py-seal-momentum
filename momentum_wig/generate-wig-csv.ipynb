{
 "cells": [
  {
   "cell_type": "code",
   "execution_count": 10,
   "metadata": {},
   "outputs": [],
   "source": [
    "import pandas as pd\n",
    "import yfinance as yf\n",
    "import datetime\n",
    "import time     \n",
    "import requests\n",
    "import io\n",
    "import os\n",
    "\n",
    "#convert stock_names.txt to stock_names.csv\n",
    "\n",
    "#fileDir = os.path.dirname(os.path.realpath('__file__'))\n",
    "\n",
    "#For accessing the file in a folder contained in the current folder\n",
    "#fileInput = os.path.join(fileDir, 'data/stock_names.txt')\n",
    "#fileOutput = os.path.join(fileDir, 'data/tickers.csv')\n",
    "\n",
    "read_file = pd.read_csv('data/stock_names.txt', delim_whitespace=True)\n",
    "read_file[\"<TICKER>\"] = read_file[\"<TICKER>\"].astype(str).str.casefold()\n",
    "\n",
    "read_file.to_csv('data/tickers.csv', index=True)"
   ]
  }
 ],
 "metadata": {
  "interpreter": {
   "hash": "262a6e2affdaca71d83106954bc825815dc1afde8af0778856610a0d21866ecc"
  },
  "kernelspec": {
   "display_name": "Python 3.9.9 64-bit (windows store)",
   "language": "python",
   "name": "python3"
  },
  "language_info": {
   "codemirror_mode": {
    "name": "ipython",
    "version": 3
   },
   "file_extension": ".py",
   "mimetype": "text/x-python",
   "name": "python",
   "nbconvert_exporter": "python",
   "pygments_lexer": "ipython3",
   "version": "3.9.10"
  },
  "orig_nbformat": 4
 },
 "nbformat": 4,
 "nbformat_minor": 2
}
